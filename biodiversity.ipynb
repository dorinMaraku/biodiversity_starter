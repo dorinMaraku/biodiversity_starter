{
 "cells": [
  {
   "cell_type": "markdown",
   "metadata": {},
   "source": [
    "# Biodiversity Analysis #"
   ]
  },
  {
   "cell_type": "markdown",
   "metadata": {},
   "source": [
    "## Introduction"
   ]
  },
  {
   "cell_type": "markdown",
   "metadata": {},
   "source": [
    "The goal of this project is to analyze biodiversity data from the National Park Service, particularly around various species observed in different national park locations. \n",
    "\n",
    "This project will scope, analyze, prepare, plot data, and seek to explain the findings from the analysis. \n",
    "\n",
    "Here are some questions that this project has sought to answer:\n",
    "* What is the distribution of conservation status for species?\n",
    "* Are certain types of species more likely to be endangered?\n",
    "* Are the differences between species and their conservation status significant?\n",
    "* Which animal is mos prevalent and what is their distribution amongst parks?\n",
    "\n",
    "**Data Sources:**\n",
    "\n",
    "Both `Observations.csv` and `Species_info.csv` was provided by [Codecademy.com](www.codecademy.com).\n",
    "\n",
    "Note: The data for this project is *inspired* by real data, but is mostly fictional."
   ]
  },
  {
   "cell_type": "markdown",
   "metadata": {},
   "source": [
    "## Scoping "
   ]
  },
  {
   "cell_type": "markdown",
   "metadata": {},
   "source": [
    "### Project Goals"
   ]
  },
  {
   "cell_type": "markdown",
   "metadata": {},
   "source": [
    "In this project the perspective will be through a biodiversity analyst for the National Parks Service. The National Park Service wants to ensure the survival of at-risk species, to maintain the level of biodiversity within their parks. Therefore, the main objectives as an analyst will be understanding characteristics about the species and their conservations status, and those species and their relationship to the national parks. Some questions that are posed: \n",
    "\n",
    "* What is the distribution of conservation status for species?\n",
    "* Are certain types of species more likely to be endangered?\n",
    "* Are the differences between species and their conservation status significant?\n",
    "* Which animal is mos prevalent and what is their distribution amongst parks?"
   ]
  },
  {
   "cell_type": "markdown",
   "metadata": {},
   "source": [
    "### Data\n",
    "\n",
    "This project has two data sets that came with the package. The first `csv` file has information about each species and another has obeservations of species with park locations. This data will be used to analyze the goals of the project. "
   ]
  },
  {
   "cell_type": "markdown",
   "metadata": {},
   "source": [
    "### Analysis\n",
    "\n",
    "In this section, descriptive statistics and data vizualisation techniques will be employed to understand the data better. Statistical inference will also be used to test if the observed values are statistically significant. Some of the key metrics that will be computed include:\n",
    "\n",
    "1. Distributions\n",
    "1. Ccounts\n",
    "1. Relationship between species\n",
    "1. Conservation status of species\n",
    "1. Observations of species in parks. \n"
   ]
  },
  {
   "cell_type": "markdown",
   "metadata": {},
   "source": [
    "### Evaluation\n",
    "\n",
    "Lastly, it's a good idea to revisit the goals and check if the output of the analysis corresponds to the questions first set to be answered (in the goals section). This section will also reflect on what has been learned through the process, and if any of the questions were unable to be answered. This could also include limitations or if any of the analysis could have been done using different methodologies."
   ]
  },
  {
   "cell_type": "markdown",
   "metadata": {},
   "source": [
    "## Import Python Modules\n",
    "\n",
    "First, import the primary modules that will be used in this project:"
   ]
  },
  {
   "cell_type": "code",
   "execution_count": 1,
   "metadata": {},
   "outputs": [],
   "source": [
    "import numpy as np\n",
    "import pandas as pd\n",
    "import matplotlib.pyplot as plt\n",
    "import seaborn as sns\n",
    "%matplotlib inline"
   ]
  },
  {
   "cell_type": "markdown",
   "metadata": {},
   "source": [
    "## Loading the Data\n",
    "\n",
    "To analyze the status of conservation of species and their observations in national parks, load the datasets into `DataFrames`. Once loaded as `DataFrames` the data can be explored and visualized with Python.\n",
    "\n",
    "In the next steps, `Observations.csv` and `Species_info.csv` are read in as `DataFrames` called `obs_df` and `species_df` respectively. The newly created `DataFrames` are glimpsed with `.head()` to check its contents."
   ]
  },
  {
   "cell_type": "markdown",
   "metadata": {},
   "source": [
    "#### species\n",
    "\n",
    "The `species_info.csv` contains information on the different species in the National Parks. The columns in the data set include:\n",
    "* **categor** - The category of taxonom of each species\n",
    "* **scientific_name** - The scientific name of each species\n",
    "* **common_names** - The common names of each species\n",
    "* **conservation_status** - The species conservation status"
   ]
  },
  {
   "cell_type": "code",
   "execution_count": 127,
   "metadata": {},
   "outputs": [
    {
     "data": {
      "text/html": [
       "<div>\n",
       "<style scoped>\n",
       "    .dataframe tbody tr th:only-of-type {\n",
       "        vertical-align: middle;\n",
       "    }\n",
       "\n",
       "    .dataframe tbody tr th {\n",
       "        vertical-align: top;\n",
       "    }\n",
       "\n",
       "    .dataframe thead th {\n",
       "        text-align: right;\n",
       "    }\n",
       "</style>\n",
       "<table border=\"1\" class=\"dataframe\">\n",
       "  <thead>\n",
       "    <tr style=\"text-align: right;\">\n",
       "      <th></th>\n",
       "      <th>category</th>\n",
       "      <th>scientific_name</th>\n",
       "      <th>common_names</th>\n",
       "      <th>conservation_status</th>\n",
       "    </tr>\n",
       "  </thead>\n",
       "  <tbody>\n",
       "    <tr>\n",
       "      <th>0</th>\n",
       "      <td>Mammal</td>\n",
       "      <td>Clethrionomys gapperi gapperi</td>\n",
       "      <td>Gapper's Red-Backed Vole</td>\n",
       "      <td>NaN</td>\n",
       "    </tr>\n",
       "    <tr>\n",
       "      <th>1</th>\n",
       "      <td>Mammal</td>\n",
       "      <td>Bos bison</td>\n",
       "      <td>American Bison, Bison</td>\n",
       "      <td>NaN</td>\n",
       "    </tr>\n",
       "    <tr>\n",
       "      <th>2</th>\n",
       "      <td>Mammal</td>\n",
       "      <td>Bos taurus</td>\n",
       "      <td>Aurochs, Aurochs, Domestic Cattle (Feral), Dom...</td>\n",
       "      <td>NaN</td>\n",
       "    </tr>\n",
       "    <tr>\n",
       "      <th>3</th>\n",
       "      <td>Mammal</td>\n",
       "      <td>Ovis aries</td>\n",
       "      <td>Domestic Sheep, Mouflon, Red Sheep, Sheep (Feral)</td>\n",
       "      <td>NaN</td>\n",
       "    </tr>\n",
       "    <tr>\n",
       "      <th>4</th>\n",
       "      <td>Mammal</td>\n",
       "      <td>Cervus elaphus</td>\n",
       "      <td>Wapiti Or Elk</td>\n",
       "      <td>NaN</td>\n",
       "    </tr>\n",
       "  </tbody>\n",
       "</table>\n",
       "</div>"
      ],
      "text/plain": [
       "  category                scientific_name  \\\n",
       "0   Mammal  Clethrionomys gapperi gapperi   \n",
       "1   Mammal                      Bos bison   \n",
       "2   Mammal                     Bos taurus   \n",
       "3   Mammal                     Ovis aries   \n",
       "4   Mammal                 Cervus elaphus   \n",
       "\n",
       "                                        common_names conservation_status  \n",
       "0                           Gapper's Red-Backed Vole                 NaN  \n",
       "1                              American Bison, Bison                 NaN  \n",
       "2  Aurochs, Aurochs, Domestic Cattle (Feral), Dom...                 NaN  \n",
       "3  Domestic Sheep, Mouflon, Red Sheep, Sheep (Feral)                 NaN  \n",
       "4                                      Wapiti Or Elk                 NaN  "
      ]
     },
     "execution_count": 127,
     "metadata": {},
     "output_type": "execute_result"
    }
   ],
   "source": [
    "species_df = pd.read_csv('species_info.csv')\n",
    "species_df.head()"
   ]
  },
  {
   "cell_type": "markdown",
   "metadata": {},
   "source": [
    "#### observations\n",
    "\n",
    "The `observations.csv` contains information from recorded sightings of different species throughout the national parks inthe past 7 days. The columns included are:\n",
    "\n",
    "* **scientific_name** - The scientific name of each species\n",
    "* **park_name** - The name of the national park\n",
    "* **observations** - The number of observations in the past 7 days"
   ]
  },
  {
   "cell_type": "code",
   "execution_count": 6,
   "metadata": {},
   "outputs": [
    {
     "data": {
      "text/html": [
       "<div>\n",
       "<style scoped>\n",
       "    .dataframe tbody tr th:only-of-type {\n",
       "        vertical-align: middle;\n",
       "    }\n",
       "\n",
       "    .dataframe tbody tr th {\n",
       "        vertical-align: top;\n",
       "    }\n",
       "\n",
       "    .dataframe thead th {\n",
       "        text-align: right;\n",
       "    }\n",
       "</style>\n",
       "<table border=\"1\" class=\"dataframe\">\n",
       "  <thead>\n",
       "    <tr style=\"text-align: right;\">\n",
       "      <th></th>\n",
       "      <th>scientific_name</th>\n",
       "      <th>park_name</th>\n",
       "      <th>observations</th>\n",
       "    </tr>\n",
       "  </thead>\n",
       "  <tbody>\n",
       "    <tr>\n",
       "      <th>0</th>\n",
       "      <td>Vicia benghalensis</td>\n",
       "      <td>Great Smoky Mountains National Park</td>\n",
       "      <td>68</td>\n",
       "    </tr>\n",
       "    <tr>\n",
       "      <th>1</th>\n",
       "      <td>Neovison vison</td>\n",
       "      <td>Great Smoky Mountains National Park</td>\n",
       "      <td>77</td>\n",
       "    </tr>\n",
       "    <tr>\n",
       "      <th>2</th>\n",
       "      <td>Prunus subcordata</td>\n",
       "      <td>Yosemite National Park</td>\n",
       "      <td>138</td>\n",
       "    </tr>\n",
       "    <tr>\n",
       "      <th>3</th>\n",
       "      <td>Abutilon theophrasti</td>\n",
       "      <td>Bryce National Park</td>\n",
       "      <td>84</td>\n",
       "    </tr>\n",
       "    <tr>\n",
       "      <th>4</th>\n",
       "      <td>Githopsis specularioides</td>\n",
       "      <td>Great Smoky Mountains National Park</td>\n",
       "      <td>85</td>\n",
       "    </tr>\n",
       "  </tbody>\n",
       "</table>\n",
       "</div>"
      ],
      "text/plain": [
       "            scientific_name                            park_name  observations\n",
       "0        Vicia benghalensis  Great Smoky Mountains National Park            68\n",
       "1            Neovison vison  Great Smoky Mountains National Park            77\n",
       "2         Prunus subcordata               Yosemite National Park           138\n",
       "3      Abutilon theophrasti                  Bryce National Park            84\n",
       "4  Githopsis specularioides  Great Smoky Mountains National Park            85"
      ]
     },
     "execution_count": 6,
     "metadata": {},
     "output_type": "execute_result"
    }
   ],
   "source": [
    "obs_df = pd.read_csv('observations.csv')\n",
    "obs_df.head()"
   ]
  },
  {
   "cell_type": "markdown",
   "metadata": {},
   "source": [
    "#### Data Characteristics\n",
    "\n",
    "Next, there will be a check for the dimensions of the data sets, for `species` there are 5,824 rows and 4 columns while `observations` has 23,296 rows and 3 columns."
   ]
  },
  {
   "cell_type": "code",
   "execution_count": 128,
   "metadata": {},
   "outputs": [
    {
     "name": "stdout",
     "output_type": "stream",
     "text": [
      "species shape: (5824, 4)\n",
      "observations shape: (23296, 3)\n"
     ]
    }
   ],
   "source": [
    "print(f'species shape: {species_df.shape}')\n",
    "print(f'observations shape: {obs_df.shape}')"
   ]
  },
  {
   "cell_type": "markdown",
   "metadata": {},
   "source": [
    "## Explore the Data"
   ]
  },
  {
   "cell_type": "markdown",
   "metadata": {},
   "source": [
    "### species \n",
    "\n",
    "Let's explore the `species` a little more in depth. The first thing to find the number of disticnt species in the data. Using the `scientific_name` will give us 5,541 unique species.  "
   ]
  },
  {
   "cell_type": "code",
   "execution_count": 129,
   "metadata": {},
   "outputs": [
    {
     "data": {
      "text/plain": [
       "'number of species: 5541'"
      ]
     },
     "execution_count": 129,
     "metadata": {},
     "output_type": "execute_result"
    }
   ],
   "source": [
    "f\"number of species: {species_df.scientific_name.nunique()}\""
   ]
  },
  {
   "cell_type": "markdown",
   "metadata": {},
   "source": [
    "Next is to find the number of `category`that are represented in the data and theere are 7 including animals and plants."
   ]
  },
  {
   "cell_type": "code",
   "execution_count": 131,
   "metadata": {},
   "outputs": [
    {
     "name": "stdout",
     "output_type": "stream",
     "text": [
      "number of categories: 7\n",
      "categories: ['Mammal' 'Bird' 'Reptile' 'Amphibian' 'Fish' 'Vascular Plant'\n",
      " 'Nonvascular Plant']\n"
     ]
    }
   ],
   "source": [
    "print(f'number of categories: {species_df.category.nunique()}')\n",
    "print(f'categories: {species_df.category.unique()}')"
   ]
  },
  {
   "cell_type": "markdown",
   "metadata": {},
   "source": [
    "Let's dive deeper and see the count of the `category` in data. Vascular plants are by far the largest share of species with 4,470 in the data with reptiles being he fewest with 79."
   ]
  },
  {
   "cell_type": "code",
   "execution_count": 132,
   "metadata": {},
   "outputs": [
    {
     "data": {
      "text/plain": [
       "category\n",
       "Amphibian              80\n",
       "Bird                  521\n",
       "Fish                  127\n",
       "Mammal                214\n",
       "Nonvascular Plant     333\n",
       "Reptile                79\n",
       "Vascular Plant       4470\n",
       "dtype: int64"
      ]
     },
     "execution_count": 132,
     "metadata": {},
     "output_type": "execute_result"
    }
   ],
   "source": [
    "(species_df.groupby('category').size())"
   ]
  },
  {
   "cell_type": "markdown",
   "metadata": {},
   "source": [
    "Another column to explore is the `conservation_status`. This column has foru categories, `Species of Concern`, `Endangered`, `Threatened`, `In Recovery` and `nan` values."
   ]
  },
  {
   "cell_type": "code",
   "execution_count": 139,
   "metadata": {},
   "outputs": [
    {
     "name": "stdout",
     "output_type": "stream",
     "text": [
      "number of conservation statuses: 4\n",
      "unique consevation statuses: [nan 'Species of Concern' 'Endangered' 'Threatened' 'In Recovery']\n"
     ]
    }
   ],
   "source": [
    "print(f\"number of conservation statuses: {species_df.conservation_status.nunique()}\")\n",
    "print(f\"unique consevation statuses: {species_df.conservation_status.unique()}\")"
   ]
  },
  {
   "cell_type": "markdown",
   "metadata": {},
   "source": [
    "Next a count of the number of observations in the breakdown of the categories in `conservations_status` is done. There are 5,633 `nan`values which means that they are species without concerns. On the other hand there are 161 species of concern, 16, edangere, 10 threatened, and 4 in recovery."
   ]
  },
  {
   "cell_type": "code",
   "execution_count": 142,
   "metadata": {},
   "outputs": [
    {
     "name": "stdout",
     "output_type": "stream",
     "text": [
      "na values: 5633\n"
     ]
    },
    {
     "data": {
      "text/plain": [
       "conservation_status\n",
       "Endangered             16\n",
       "In Recovery             4\n",
       "Species of Concern    161\n",
       "Threatened             10\n",
       "dtype: int64"
      ]
     },
     "execution_count": 142,
     "metadata": {},
     "output_type": "execute_result"
    }
   ],
   "source": [
    "print(f\"na values: {species_df.conservation_status.isna().sum()}\")\n",
    "\n",
    "species_df.groupby('conservation_status').size()"
   ]
  },
  {
   "cell_type": "markdown",
   "metadata": {},
   "source": [
    "### observations\n",
    "\n",
    "The fowllowing section looks at `observations` data. The first task is to check the number of parks that are in the dataset and there are only 4 national parks."
   ]
  },
  {
   "cell_type": "code",
   "execution_count": 143,
   "metadata": {},
   "outputs": [
    {
     "name": "stdout",
     "output_type": "stream",
     "text": [
      "number of parks: 4\n",
      "unique parks: ['Great Smoky Mountains National Park' 'Yosemite National Park'\n",
      " 'Bryce National Park' 'Yellowstone National Park']\n"
     ]
    }
   ],
   "source": [
    "print(f\"number of parks: {obs_df.park_name.nunique()}\")\n",
    "print(f\"unique parks: {obs_df.park_name.unique()}\")"
   ]
  },
  {
   "cell_type": "markdown",
   "metadata": {},
   "source": [
    "Here are the total number of observations logged in the parks, there are 3,314,739 sightings in the last 7 days..."
   ]
  },
  {
   "cell_type": "code",
   "execution_count": 144,
   "metadata": {},
   "outputs": [
    {
     "data": {
      "text/plain": [
       "'number of observations: 3314739'"
      ]
     },
     "execution_count": 144,
     "metadata": {},
     "output_type": "execute_result"
    }
   ],
   "source": [
    "f\"number of observations: {obs_df.observations.sum()}\""
   ]
  },
  {
   "cell_type": "markdown",
   "metadata": {},
   "source": [
    "## Analysis"
   ]
  },
  {
   "cell_type": "markdown",
   "metadata": {},
   "source": [
    "This section will begin analyzing the data after the initial exploration. First task will be to clean and explore the `conservation_status` column in `species`. \n",
    "\n",
    "The column `conservation_status` has several possible values:\n",
    "- `Species of Concern`: declining or appear to be in need of conservation\n",
    "- `Threatened`: vulnerable to endangerment in the near future\n",
    "- `Endangered`: seriously at risk of extinction\n",
    "- `In Recovery`: formerly `Endangered`, but currently neither in danger of extinction throughout all or a significant portion of its range\n",
    "\n",
    "In the exploration, a lot of `nan` values were detected. These values will need to be converted to `No Intervention`."
   ]
  },
  {
   "cell_type": "code",
   "execution_count": 147,
   "metadata": {},
   "outputs": [
    {
     "data": {
      "text/plain": [
       "conservation_status\n",
       "Endangered              16\n",
       "In Recovery              4\n",
       "No Intervention       5633\n",
       "Species of Concern     161\n",
       "Threatened              10\n",
       "dtype: int64"
      ]
     },
     "execution_count": 147,
     "metadata": {},
     "output_type": "execute_result"
    }
   ],
   "source": [
    "(species_df\n",
    " .fillna('No Intervention')\n",
    " .reset_index(drop=True)\n",
    " .groupby('conservation_status')\n",
    " .size()\n",
    ")"
   ]
  },
  {
   "cell_type": "markdown",
   "metadata": {},
   "source": [
    "Next is to checkout the different categories that are nested in the `conservation_status` column except for the ones that do not require an intervention. There is both the table and chart to explore below.\n",
    "\n",
    "For those in the `Endangered` status, 7 were mammals and 4 were birds. In the `In Recovery` status, there were 3 birds and 1 mammal, which could possibly mean that the birds are bouncing back more than the mammals. "
   ]
  },
  {
   "cell_type": "code",
   "execution_count": 166,
   "metadata": {},
   "outputs": [
    {
     "data": {
      "text/html": [
       "<div>\n",
       "<style scoped>\n",
       "    .dataframe tbody tr th:only-of-type {\n",
       "        vertical-align: middle;\n",
       "    }\n",
       "\n",
       "    .dataframe tbody tr th {\n",
       "        vertical-align: top;\n",
       "    }\n",
       "\n",
       "    .dataframe thead th {\n",
       "        text-align: right;\n",
       "    }\n",
       "</style>\n",
       "<table border=\"1\" class=\"dataframe\">\n",
       "  <thead>\n",
       "    <tr style=\"text-align: right;\">\n",
       "      <th>category</th>\n",
       "      <th>Amphibian</th>\n",
       "      <th>Bird</th>\n",
       "      <th>Fish</th>\n",
       "      <th>Mammal</th>\n",
       "      <th>Nonvascular Plant</th>\n",
       "      <th>Reptile</th>\n",
       "      <th>Vascular Plant</th>\n",
       "    </tr>\n",
       "    <tr>\n",
       "      <th>conservation_status</th>\n",
       "      <th></th>\n",
       "      <th></th>\n",
       "      <th></th>\n",
       "      <th></th>\n",
       "      <th></th>\n",
       "      <th></th>\n",
       "      <th></th>\n",
       "    </tr>\n",
       "  </thead>\n",
       "  <tbody>\n",
       "    <tr>\n",
       "      <th>Endangered</th>\n",
       "      <td>1.0</td>\n",
       "      <td>4.0</td>\n",
       "      <td>3.0</td>\n",
       "      <td>7.0</td>\n",
       "      <td>NaN</td>\n",
       "      <td>NaN</td>\n",
       "      <td>1.0</td>\n",
       "    </tr>\n",
       "    <tr>\n",
       "      <th>In Recovery</th>\n",
       "      <td>NaN</td>\n",
       "      <td>3.0</td>\n",
       "      <td>NaN</td>\n",
       "      <td>1.0</td>\n",
       "      <td>NaN</td>\n",
       "      <td>NaN</td>\n",
       "      <td>NaN</td>\n",
       "    </tr>\n",
       "    <tr>\n",
       "      <th>Species of Concern</th>\n",
       "      <td>4.0</td>\n",
       "      <td>72.0</td>\n",
       "      <td>4.0</td>\n",
       "      <td>28.0</td>\n",
       "      <td>5.0</td>\n",
       "      <td>5.0</td>\n",
       "      <td>43.0</td>\n",
       "    </tr>\n",
       "    <tr>\n",
       "      <th>Threatened</th>\n",
       "      <td>2.0</td>\n",
       "      <td>NaN</td>\n",
       "      <td>4.0</td>\n",
       "      <td>2.0</td>\n",
       "      <td>NaN</td>\n",
       "      <td>NaN</td>\n",
       "      <td>2.0</td>\n",
       "    </tr>\n",
       "  </tbody>\n",
       "</table>\n",
       "</div>"
      ],
      "text/plain": [
       "category             Amphibian  Bird  Fish  Mammal  Nonvascular Plant  \\\n",
       "conservation_status                                                     \n",
       "Endangered                 1.0   4.0   3.0     7.0                NaN   \n",
       "In Recovery                NaN   3.0   NaN     1.0                NaN   \n",
       "Species of Concern         4.0  72.0   4.0    28.0                5.0   \n",
       "Threatened                 2.0   NaN   4.0     2.0                NaN   \n",
       "\n",
       "category             Reptile  Vascular Plant  \n",
       "conservation_status                           \n",
       "Endangered               NaN             1.0  \n",
       "In Recovery              NaN             NaN  \n",
       "Species of Concern       5.0            43.0  \n",
       "Threatened               NaN             2.0  "
      ]
     },
     "execution_count": 166,
     "metadata": {},
     "output_type": "execute_result"
    }
   ],
   "source": [
    "conservationCategory = (species_df\n",
    " .fillna('No Intervention')\n",
    " .reset_index(drop=True)\n",
    " .loc[lambda df_: df_.conservation_status != 'No Intervention']\n",
    " .groupby(['conservation_status', 'category'])['scientific_name']\n",
    " .count()\n",
    " .unstack()\n",
    ")\n",
    "conservationCategory"
   ]
  },
  {
   "cell_type": "code",
   "execution_count": 171,
   "metadata": {},
   "outputs": [
    {
     "data": {
      "image/png": "[encoded data removed]",
      "text/plain": [
       "<Figure size 800x600 with 1 Axes>"
      ]
     },
     "metadata": {},
     "output_type": "display_data"
    }
   ],
   "source": [
    "ax = conservationCategory.plot(kind='bar',\n",
    "                          figsize=(8,6),\n",
    "                          stacked=True,\n",
    "                          title='Conservation status by species',\n",
    "                          xlabel='Conservation status',\n",
    "                          ylabel='Number of Species'\n",
    "                        );"
   ]
  },
  {
   "cell_type": "markdown",
   "metadata": {},
   "source": [
    "#### In conservation\n",
    "\n",
    "The next question is if certain types of species are more likely to be endangered? This can be answered by creating a new column called `is_protected` and include any species that had a value other than `No Intervention`. \n",
    "\n",
    "Once the new column is created, group by `category` and `is_protected` to show the break down of each species type and protection status. \n",
    "\n",
    "It's easy to see that Birds, Vascular Plants, and Mammals have a higher absolute number of species protected. \n",
    "\n",
    "Absolute numbers are not always the most useful statistic, therefore it's important to calculate the rate of protection that each `category` exhibits in the data. From this analysis, one can see that ~17 percent of mammals were under protection, as well as ~15 percent of birds. "
   ]
  },
  {
   "cell_type": "code",
   "execution_count": 288,
   "metadata": {},
   "outputs": [
    {
     "data": {
      "text/html": [
       "<div>\n",
       "<style scoped>\n",
       "    .dataframe tbody tr th:only-of-type {\n",
       "        vertical-align: middle;\n",
       "    }\n",
       "\n",
       "    .dataframe tbody tr th {\n",
       "        vertical-align: top;\n",
       "    }\n",
       "\n",
       "    .dataframe thead th {\n",
       "        text-align: right;\n",
       "    }\n",
       "</style>\n",
       "<table border=\"1\" class=\"dataframe\">\n",
       "  <thead>\n",
       "    <tr style=\"text-align: right;\">\n",
       "      <th>is_protected</th>\n",
       "      <th>category</th>\n",
       "      <th>not_protected</th>\n",
       "      <th>protected</th>\n",
       "      <th>percent_protected</th>\n",
       "    </tr>\n",
       "  </thead>\n",
       "  <tbody>\n",
       "    <tr>\n",
       "      <th>0</th>\n",
       "      <td>Amphibian</td>\n",
       "      <td>72</td>\n",
       "      <td>7</td>\n",
       "      <td>8.860759</td>\n",
       "    </tr>\n",
       "    <tr>\n",
       "      <th>1</th>\n",
       "      <td>Bird</td>\n",
       "      <td>413</td>\n",
       "      <td>75</td>\n",
       "      <td>15.368852</td>\n",
       "    </tr>\n",
       "    <tr>\n",
       "      <th>2</th>\n",
       "      <td>Fish</td>\n",
       "      <td>115</td>\n",
       "      <td>11</td>\n",
       "      <td>8.730159</td>\n",
       "    </tr>\n",
       "    <tr>\n",
       "      <th>3</th>\n",
       "      <td>Mammal</td>\n",
       "      <td>146</td>\n",
       "      <td>30</td>\n",
       "      <td>17.045455</td>\n",
       "    </tr>\n",
       "    <tr>\n",
       "      <th>4</th>\n",
       "      <td>Nonvascular Plant</td>\n",
       "      <td>328</td>\n",
       "      <td>5</td>\n",
       "      <td>1.501502</td>\n",
       "    </tr>\n",
       "    <tr>\n",
       "      <th>5</th>\n",
       "      <td>Reptile</td>\n",
       "      <td>73</td>\n",
       "      <td>5</td>\n",
       "      <td>6.410256</td>\n",
       "    </tr>\n",
       "    <tr>\n",
       "      <th>6</th>\n",
       "      <td>Vascular Plant</td>\n",
       "      <td>4216</td>\n",
       "      <td>46</td>\n",
       "      <td>1.079305</td>\n",
       "    </tr>\n",
       "  </tbody>\n",
       "</table>\n",
       "</div>"
      ],
      "text/plain": [
       "is_protected           category  not_protected  protected  percent_protected\n",
       "0                     Amphibian             72          7           8.860759\n",
       "1                          Bird            413         75          15.368852\n",
       "2                          Fish            115         11           8.730159\n",
       "3                        Mammal            146         30          17.045455\n",
       "4             Nonvascular Plant            328          5           1.501502\n",
       "5                       Reptile             73          5           6.410256\n",
       "6                Vascular Plant           4216         46           1.079305"
      ]
     },
     "execution_count": 288,
     "metadata": {},
     "output_type": "execute_result"
    }
   ],
   "source": [
    "category_counts = (species_df\n",
    " .fillna('No Intervention')\n",
    " .reset_index(drop=True)\n",
    " .assign(\n",
    "     is_protected = lambda df_: df_.conservation_status != 'No Intervention'\n",
    " )\n",
    "# we group by `category` and `is_protected` to show the break down of each species type and protection status. \n",
    " .groupby([ 'category', 'is_protected'])\n",
    " .scientific_name.nunique()\n",
    " .reset_index()\n",
    " .pivot(columns='is_protected',\n",
    "        index='category',\n",
    "        values= 'scientific_name')\n",
    " .reset_index()\n",
    "#  .columns\n",
    " .rename(columns={False: 'not_protected', True:'protected'})\n",
    " .assign(\n",
    "     percent_protected = lambda df: df.protected / (df.protected + df.not_protected) * 100\n",
    " )\n",
    ")\n",
    "\n",
    "category_counts"
   ]
  },
  {
   "cell_type": "markdown",
   "metadata": {},
   "source": [
    "#### Statistical Significance"
   ]
  },
  {
   "cell_type": "markdown",
   "metadata": {},
   "source": [
    "This section will run some chi-squared tests to see if different species have statistically significant differences in conservation status rates. In order to run a chi squared test, a contingency table will need to be created. The contingency table should look like this:\n",
    "\n",
    "||protected|not protected|\n",
    "|-|-|-|\n",
    "|Mammal|30|146|\n",
    "|Bird|75|413|\n",
    "\n",
    "The first test will be called `contingency1` and will need to be filled with the correct numbers for mammals and birds.\n",
    "\n",
    "The results from the chi-squared test returns many values, the second value which is 0.69 is the p-value. The standard p-value to test statistical significance is 0.05. For the value retrieved from this test, the value of 0.69 is much larger than 0.05. In the case of mammals and birds there doesn't seem to be any significant relationship between them i.e. the variables independent. "
   ]
  },
  {
   "cell_type": "code",
   "execution_count": 289,
   "metadata": {},
   "outputs": [],
   "source": [
    "from scipy.stats import chi2_contingency"
   ]
  },
  {
   "cell_type": "code",
   "execution_count": 290,
   "metadata": {},
   "outputs": [
    {
     "data": {
      "text/plain": [
       "Chi2ContingencyResult(statistic=0.1617014831654557, pvalue=0.6875948096661336, dof=1, expected_freq=array([[ 27.8313253, 148.1686747],\n",
       "       [ 77.1686747, 410.8313253]]))"
      ]
     },
     "execution_count": 290,
     "metadata": {},
     "output_type": "execute_result"
    }
   ],
   "source": [
    "contingency1 = [[30,146],\n",
    "                [75,413]]\n",
    "chi2_contingency(contingency1)"
   ]
  },
  {
   "cell_type": "markdown",
   "metadata": {},
   "source": [
    "The next pair, is going to test the difference between `Reptile` and `Mammal`.\n",
    "\n",
    "The format is again is like below:\n",
    "\n",
    "||protected|not protected|\n",
    "|-|-|-|\n",
    "|Mammal|30|146|\n",
    "|Reptile|5|73|\n",
    "\n",
    "This time the p-value is 0.039 which is below the standard threshold of 0.05 which can be take that the difference between reptile and mammal is statistically significant. Mammals are shown to have a statistically significant higher rate of needed protection compared with Reptiles. "
   ]
  },
  {
   "cell_type": "code",
   "execution_count": 291,
   "metadata": {},
   "outputs": [
    {
     "data": {
      "text/plain": [
       "Chi2ContingencyResult(statistic=4.289183096203645, pvalue=0.03835559022969898, dof=1, expected_freq=array([[ 24.2519685, 151.7480315],\n",
       "       [ 10.7480315,  67.2519685]]))"
      ]
     },
     "execution_count": 291,
     "metadata": {},
     "output_type": "execute_result"
    }
   ],
   "source": [
    "contingency2 = [[30,146],\n",
    "                [5,73]]\n",
    "\n",
    "chi2_contingency(contingency2)"
   ]
  },
  {
   "cell_type": "markdown",
   "metadata": {},
   "source": [
    "#### Species in Parks\n",
    "\n",
    "The next set of analysis will come from data from the conservationists as they have been recording sightings of diferrent species at several natioanl praks for the past 7 days.\n",
    "\n",
    "The first step is to look at the common name from `species` to get an idea fo the most prevalent animals in the dataset. The data will need to split up into individual names. "
   ]
  },
  {
   "cell_type": "code",
   "execution_count": 308,
   "metadata": {},
   "outputs": [],
   "source": [
    "import string"
   ]
  },
  {
   "cell_type": "code",
   "execution_count": 400,
   "metadata": {},
   "outputs": [
    {
     "data": {
      "text/plain": [
       "[['Gappers', 'RedBacked', 'Vole'],\n",
       " ['American', 'Bison', 'Bison'],\n",
       " ['Aurochs',\n",
       "  'Aurochs',\n",
       "  'Domestic',\n",
       "  'Cattle',\n",
       "  'Feral',\n",
       "  'Domesticated',\n",
       "  'Cattle'],\n",
       " ['Domestic', 'Sheep', 'Mouflon', 'Red', 'Sheep', 'Sheep', 'Feral'],\n",
       " ['Wapiti', 'Or', 'Elk'],\n",
       " ['WhiteTailed', 'Deer'],\n",
       " ['Feral', 'Hog', 'Wild', 'Pig'],\n",
       " ['Coyote'],\n",
       " ['Gray', 'Wolf'],\n",
       " ['Red', 'Wolf'],\n",
       " ['Common', 'Gray', 'Fox', 'Gray', 'Fox'],\n",
       " ['Black', 'Fox', 'Cross', 'Fox', 'Red', 'Fox', 'Silver', 'Fox'],\n",
       " ['Red', 'Fox'],\n",
       " ['Mountain', 'Lion'],\n",
       " ['Wild', 'Cat', 'Wildcat'],\n",
       " ['Bobcat'],\n",
       " ['Panther', 'Mountain', 'Lion'],\n",
       " ['Striped', 'Skunk'],\n",
       " ['Eastern', 'Spotted', 'Skunk'],\n",
       " ['River', 'Otter'],\n",
       " ['Northern', 'River', 'Otter'],\n",
       " ['Fisher'],\n",
       " ['Mink', 'Or', 'Weasel'],\n",
       " ['LongTailed', 'Weasel'],\n",
       " ['Least', 'Weasel'],\n",
       " ['Mink'],\n",
       " ['Common', 'Raccoon', 'Raccoon'],\n",
       " ['Black', 'Bear'],\n",
       " ['Rafinesques', 'BigEared', 'Bat'],\n",
       " ['Big', 'Brown', 'Bat'],\n",
       " ['SilverHaired', 'Bat'],\n",
       " ['Eastern', 'Red', 'Bat', 'Red', 'Bat'],\n",
       " ['Hoary', 'Bat'],\n",
       " ['Mississippi', 'Myotis', 'Southeastern', 'Myotis'],\n",
       " ['Gray', 'Myotis'],\n",
       " ['Keens', 'Myotis'],\n",
       " ['Eastern', 'SmallFooted', 'Bat', 'Eastern', 'SmallFooted', 'Myotis'],\n",
       " ['Little', 'Brown', 'Bat', 'Little', 'Brown', 'Myotis'],\n",
       " ['Northern', 'LongEared', 'Bat', 'Northern', 'Myotis'],\n",
       " ['Indiana', 'Bat', 'Indiana', 'Or', 'Social', 'Myotis'],\n",
       " ['Evening', 'Bat'],\n",
       " ['Eastern', 'Pipistrelle'],\n",
       " ['Virginia', 'Opossum', 'Virginia', 'Oppossum'],\n",
       " ['Snowshoe', 'Hare'],\n",
       " ['Eastern', 'Cottontail'],\n",
       " ['Appalachian', 'Cottontail'],\n",
       " ['New', 'England', 'Cottontail'],\n",
       " ['Feral', 'Horse', 'Horse'],\n",
       " ['Human', 'Humans', 'Man'],\n",
       " ['American', 'Beaver', 'Beaver'],\n",
       " ['Southern', 'RedBacked', 'Vole'],\n",
       " ['Rock', 'Vole', 'Southern', 'Rock', 'Vole'],\n",
       " ['Meadow', 'Vole'],\n",
       " ['Woodland', 'Vole'],\n",
       " ['Eastern', 'Woodrat'],\n",
       " ['Allegheny', 'Woodrat', 'Appalachian', 'Woodrat'],\n",
       " ['Golden', 'Mouse'],\n",
       " ['Muskrat'],\n",
       " ['Marsh', 'Rice', 'Rat'],\n",
       " ['Marsh', 'Rice', 'Rat'],\n",
       " ['Cotton', 'Mouse'],\n",
       " ['WhiteFooted', 'Mouse'],\n",
       " ['Deer', 'Mouse'],\n",
       " ['Eastern', 'Harvest', 'Mouse'],\n",
       " ['Southern', 'Bog', 'Lemming'],\n",
       " ['Stones', 'Southern', 'Bog', 'Lemming'],\n",
       " ['Woodland', 'Jumping', 'Mouse'],\n",
       " ['Meadow', 'Jumping', 'Mouse'],\n",
       " ['Common', 'Porcupine', 'Porcupine'],\n",
       " ['House', 'Mouse'],\n",
       " ['Norway', 'Rat'],\n",
       " ['Black', 'Rat'],\n",
       " ['Carolina',\n",
       "  'Northern',\n",
       "  'Flying',\n",
       "  'Squirrel',\n",
       "  'Northern',\n",
       "  'Flying',\n",
       "  'Squirrel'],\n",
       " ['Southern', 'Flying', 'Squirrel'],\n",
       " ['Woodchuck'],\n",
       " ['Eastern', 'Gray', 'Squirrel', 'Gray', 'Squirrel'],\n",
       " ['Eastern', 'Fox', 'Squirrel', 'Fox', 'Squirrel'],\n",
       " ['Eastern', 'Chipmunk'],\n",
       " ['Red', 'Squirrel'],\n",
       " ['Northern', 'Short', 'Tailed', 'Shrew', 'Northern', 'ShortTailed', 'Shrew'],\n",
       " ['Least', 'Shrew'],\n",
       " ['Common', 'Shrew', 'Masked', 'Shrew'],\n",
       " ['LongTailed', 'Or', 'Rock', 'Shrew', 'LongTailed', 'Shrew'],\n",
       " ['Smoky', 'Shrew'],\n",
       " ['Pygmy', 'Shrew'],\n",
       " ['Southeastern', 'Shrew'],\n",
       " ['Water', 'Shrew'],\n",
       " ['StarNosed', 'Mole'],\n",
       " ['HairyTailed', 'Mole'],\n",
       " ['Eastern', 'Mole'],\n",
       " ['Antelope', 'Pronghorn'],\n",
       " ['Bison', 'Buffalo'],\n",
       " ['Mountain', 'Goat', 'Mountain', 'Goat', 'Rocky', 'Mountain', 'Goat'],\n",
       " ['Bighorn', 'Sheep', 'Bighorn', 'Sheep'],\n",
       " ['Eurasian', 'Elk', 'Moose'],\n",
       " ['Yellowstone', 'Moose'],\n",
       " ['Rocky', 'Mountain', 'Elk'],\n",
       " ['Mule', 'Deer', 'Mule', 'Deer'],\n",
       " ['WhiteTailed', 'Deer', 'WhiteTailed', 'Deer'],\n",
       " ['Gray', 'Wolf', 'Wolf'],\n",
       " ['Canada', 'Lynx', 'Canadian', 'Lynx', 'Lynx'],\n",
       " ['Cougar', 'Mountain', 'Lion', 'Puma'],\n",
       " ['Western', 'Spotted', 'Skunk'],\n",
       " ['Wolverine'],\n",
       " ['River', 'Otter'],\n",
       " ['Pine', 'Marten'],\n",
       " ['Ermine', 'Short', 'Tailed', 'Weasel'],\n",
       " ['American', 'Mink', 'Mink'],\n",
       " ['American', 'Badger', 'Badger'],\n",
       " ['Common', 'Raccoon', 'Northern', 'Raccoon', 'Raccoon'],\n",
       " ['American', 'Black', 'Bear', 'Black', 'Bear'],\n",
       " ['Grizzly', 'Bear'],\n",
       " ['Pallid', 'Bat', 'Pallid', 'Bat'],\n",
       " ['MuleEared',\n",
       "  'Bat',\n",
       "  'Pacific',\n",
       "  'Townsends',\n",
       "  'BigEared',\n",
       "  'Bat',\n",
       "  'Townsends',\n",
       "  'BigEared',\n",
       "  'Bat',\n",
       "  'Townsends',\n",
       "  'BigEared',\n",
       "  'Bat',\n",
       "  'Western',\n",
       "  'BigEared',\n",
       "  'Bat',\n",
       "  'Western',\n",
       "  'LongEared',\n",
       "  'Bat',\n",
       "  'Western',\n",
       "  'LumpNosed',\n",
       "  'Bat'],\n",
       " ['Big', 'Brown', 'Bat', 'Big', 'Brown', 'Bat'],\n",
       " ['Spotted', 'Bat', 'Spotted', 'Bat'],\n",
       " ['SilverHaired', 'Bat', 'SilverHaired', 'Bat'],\n",
       " ['Hoary', 'Bat', 'Hoary', 'Bat'],\n",
       " ['California', 'Myotis', 'California', 'Myotis', 'Californian', 'Myotis'],\n",
       " ['SmallFooted',\n",
       "  'Myotis',\n",
       "  'Western',\n",
       "  'SmallFooted',\n",
       "  'Bat',\n",
       "  'Western',\n",
       "  'SmallFooted',\n",
       "  'Myotis'],\n",
       " ['LongEared', 'Myotis', 'LongEared', 'Myotis'],\n",
       " ['Little',\n",
       "  'Brown',\n",
       "  'Bat',\n",
       "  'Little',\n",
       "  'Brown',\n",
       "  'Myotis',\n",
       "  'Little',\n",
       "  'Brown',\n",
       "  'Myotis'],\n",
       " ['Fringed', 'Myotis', 'Fringed', 'Myotis'],\n",
       " ['LongLegged', 'Myotis', 'LongLegged', 'Myotis'],\n",
       " ['Yuma', 'Myotis', 'Yuma', 'Myotis'],\n",
       " ['WhiteTailed', 'Jack', 'Rabbit', 'WhiteTailed', 'Jackrabbit'],\n",
       " ['Desert', 'Cottontail'],\n",
       " ['Mountain', 'Cottontail'],\n",
       " ['American', 'Pika', 'Pika'],\n",
       " ['American', 'Beaver'],\n",
       " ['Sagebrush', 'Vole'],\n",
       " ['Coronation', 'Island', 'Vole', 'LongTailed', 'Vole'],\n",
       " ['Montane', 'Vole'],\n",
       " ['Richardson', 'Water', 'Vole'],\n",
       " ['BushyTailed', 'Woodrat'],\n",
       " ['Common', 'Muskrat', 'Muskbeaver', 'Muskrat'],\n",
       " ['Deer', 'Mouse', 'North', 'American', 'Deermouse'],\n",
       " ['Heather', 'Vole', 'Western', 'Heather', 'Vole'],\n",
       " ['Western', 'Jumping', 'Mouse'],\n",
       " ['Northern', 'Pocket', 'Gopher'],\n",
       " ['Northern', 'Flying', 'Squirrel'],\n",
       " ['YellowBellied', 'Marmot'],\n",
       " ['Yellow', 'Pine', 'Chipmunk'],\n",
       " ['Least', 'Chipmunk'],\n",
       " ['Uinta', 'Chipmunk'],\n",
       " ['Uinta', 'Ground', 'Squirrel'],\n",
       " ['GoldenMantled', 'Ground', 'Squirrel'],\n",
       " ['YellowPine', 'Chipmunk'],\n",
       " ['Least', 'Chipmunk'],\n",
       " ['Uinta', 'Chipmunk'],\n",
       " ['Cinereus', 'Shrew', 'Common', 'Shrew', 'Masked', 'Shrew'],\n",
       " ['American', 'Pygmy', 'Shrew', 'Pygmy', 'Shrew'],\n",
       " ['Dusky', 'Shrew'],\n",
       " ['Dwarf', 'Shrew', 'Rocky', 'Mountain', 'Dwarf', 'Shrew'],\n",
       " ['American',\n",
       "  'Water',\n",
       "  'Shrew',\n",
       "  'Northern',\n",
       "  'Water',\n",
       "  'Shrew',\n",
       "  'Water',\n",
       "  'Shrew'],\n",
       " ['Malheur', 'Shrew', 'Prebles', 'Shrew'],\n",
       " ['Sierra', 'Nevada', 'Bighorn', 'Sheep'],\n",
       " ['Pig', 'Pig', 'Feral', 'Wild', 'Boar', 'Wild', 'Boar'],\n",
       " ['Gray', 'Wolf', 'Wolf'],\n",
       " ['Gray', 'Fox'],\n",
       " ['Sierra', 'Nevada', 'Red', 'Fox'],\n",
       " ['Mountain', 'Lion'],\n",
       " ['Spotted', 'Skunk'],\n",
       " ['American', 'Marten', 'Marten'],\n",
       " ['Ermine'],\n",
       " ['American', 'Mink'],\n",
       " ['Fisher'],\n",
       " ['Badger'],\n",
       " ['Ringtail'],\n",
       " ['Raccoon'],\n",
       " ['Brown', 'Bear', 'Grizzly', 'Bear'],\n",
       " ['Western', 'Mastiff', 'Bat'],\n",
       " ['Mexican', 'FreeTailed', 'Bat'],\n",
       " ['Townsends', 'BigEared', 'Bat'],\n",
       " ['Western', 'Red', 'Bat'],\n",
       " ['California', 'Myotis'],\n",
       " ['SmallFooted', 'Myotis'],\n",
       " ['Little', 'Brown', 'Myotis'],\n",
       " ['Canyon', 'Bat'],\n",
       " ['Virginia', 'Opossum'],\n",
       " ['Sierra', 'Nevada', 'Snowshoe', 'Hare'],\n",
       " ['Western', 'WhiteTailed', 'Jackrabbit'],\n",
       " ['Brush', 'Rabbit'],\n",
       " ['Pika'],\n",
       " ['Sierra', 'Nevada', 'Mountain', 'Beaver'],\n",
       " ['Beaver'],\n",
       " ['California', 'Meadow', 'Mouse'],\n",
       " ['LongTailed', 'Vole'],\n",
       " ['BigEared', 'Woodrat'],\n",
       " ['BigEared', 'Woodrat'],\n",
       " ['Brush', 'Deermouse', 'Brush', 'Mouse'],\n",
       " ['California', 'Mouse'],\n",
       " ['PiOn', 'Deermouse', 'PiOn', 'Mouse', 'Pinyon', 'Mouse'],\n",
       " ['Western', 'Harvest', 'Mouse'],\n",
       " ['Porcupine'],\n",
       " ['Bottas', 'Pocket', 'Gopher'],\n",
       " ['Mountain', 'Pocket', 'Gopher'],\n",
       " ['California', 'Pocket', 'Mouse'],\n",
       " ['GoldenMantled', 'Ground', 'Squirrel'],\n",
       " ['California', 'Ground', 'Squirrel'],\n",
       " ['Western', 'Gray', 'Squirrel'],\n",
       " ['Alpine', 'Chipmunk'],\n",
       " ['Merriams', 'Chipmunk'],\n",
       " ['LongEared', 'Chipmunk'],\n",
       " ['Allens', 'Chipmunk', 'Shadow', 'Chipmunk'],\n",
       " ['Lodgepole', 'Chipmunk'],\n",
       " ['Inyo', 'Chipmunk'],\n",
       " ['Chickaree'],\n",
       " ['Beldings', 'Ground', 'Squirrel'],\n",
       " ['Mount', 'Lyell', 'Shrew'],\n",
       " ['Montane', 'Shrew'],\n",
       " ['Inyo', 'Shrew'],\n",
       " ['Trowbridges', 'Shrew'],\n",
       " ['BroadFooted', 'Mole']]"
      ]
     },
     "execution_count": 400,
     "metadata": {},
     "output_type": "execute_result"
    }
   ],
   "source": [
    "def remove_punctuation(common_names):\n",
    "    for punct in string.punctuation: \n",
    "        common_names = common_names.replace(punct, '')\n",
    "    return common_names\n",
    "\n",
    "\n",
    "common_Names = (species_df\n",
    " .loc[lambda df: df.category == 'Mammal']\n",
    " .assign(\n",
    "     common_names = lambda df: df.common_names.apply(remove_punctuation)\n",
    "     )\n",
    " .common_names\n",
    " .str.split().to_list()\n",
    ")\n",
    "\n",
    "common_Names\n",
    "# remove_punctuation(' Domestic Sheep, Mouflon, Red Sheep, Sheep (Feral)')"
   ]
  }
 ],
 "metadata": {
  "kernelspec": {
   "display_name": "Python 3",
   "language": "python",
   "name": "python3"
  },
  "language_info": {
   "codemirror_mode": {
    "name": "ipython",
    "version": 3
   },
   "file_extension": ".py",
   "mimetype": "text/x-python",
   "name": "python",
   "nbconvert_exporter": "python",
   "pygments_lexer": "ipython3",
   "version": "3.11.5"
  }
 },
 "nbformat": 4,
 "nbformat_minor": 4
}
