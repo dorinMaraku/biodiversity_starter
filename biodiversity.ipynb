{
 "cells": [
  {
   "cell_type": "markdown",
   "metadata": {},
   "source": [
    "# Biodiversity Analysis #"
   ]
  },
  {
   "cell_type": "markdown",
   "metadata": {},
   "source": [
    "## Introduction"
   ]
  },
  {
   "cell_type": "markdown",
   "metadata": {},
   "source": [
    "The goal of this project is to analyze biodiversity data from the National Park Service, particularly around various species observed in different national park locations. \n",
    "\n",
    "This project will scope, analyze, prepare, plot data, and seek to explain the findings from the analysis. \n",
    "\n",
    "Here are some questions that this project has sought to answer:\n",
    "* What is the distribution of conservation status for species?\n",
    "* Are certain types of species more likely to be endangered?\n",
    "* Are the differences between species and their conservation status significant?\n",
    "* Which animal is mos prevalent and what is their distribution amongst parks?\n",
    "\n",
    "##### Data Sources:####\n",
    "\n",
    "Both `Observations.csv` and `Species_info.csv` was provided by Codecademy.com[www.codecademy.com]"
   ]
  },
  {
   "cell_type": "code",
   "execution_count": 1,
   "metadata": {},
   "outputs": [],
   "source": [
    "import numpy as np\n",
    "import pandas as pd\n",
    "import matplotlib.pyplot as plt\n",
    "import seaborn as sns\n",
    "%matplotlib inline"
   ]
  },
  {
   "cell_type": "code",
   "execution_count": 55,
   "metadata": {},
   "outputs": [
    {
     "data": {
      "text/html": [
       "<div>\n",
       "<style scoped>\n",
       "    .dataframe tbody tr th:only-of-type {\n",
       "        vertical-align: middle;\n",
       "    }\n",
       "\n",
       "    .dataframe tbody tr th {\n",
       "        vertical-align: top;\n",
       "    }\n",
       "\n",
       "    .dataframe thead th {\n",
       "        text-align: right;\n",
       "    }\n",
       "</style>\n",
       "<table border=\"1\" class=\"dataframe\">\n",
       "  <thead>\n",
       "    <tr style=\"text-align: right;\">\n",
       "      <th></th>\n",
       "      <th>category</th>\n",
       "      <th>scientific_name</th>\n",
       "      <th>common_names</th>\n",
       "      <th>conservation_status</th>\n",
       "    </tr>\n",
       "  </thead>\n",
       "  <tbody>\n",
       "    <tr>\n",
       "      <th>1861</th>\n",
       "      <td>Vascular Plant</td>\n",
       "      <td>Viola X primulifolia</td>\n",
       "      <td>Primrose-Leaved Violet</td>\n",
       "      <td>NaN</td>\n",
       "    </tr>\n",
       "    <tr>\n",
       "      <th>5275</th>\n",
       "      <td>Vascular Plant</td>\n",
       "      <td>Orobanche uniflora</td>\n",
       "      <td>Naked Broomrape, Naked Broom-Rape, Oneflowered...</td>\n",
       "      <td>NaN</td>\n",
       "    </tr>\n",
       "    <tr>\n",
       "      <th>3712</th>\n",
       "      <td>Vascular Plant</td>\n",
       "      <td>Silene latifolia</td>\n",
       "      <td>Bladder Campion, Bladder-Campion</td>\n",
       "      <td>NaN</td>\n",
       "    </tr>\n",
       "    <tr>\n",
       "      <th>5365</th>\n",
       "      <td>Vascular Plant</td>\n",
       "      <td>Salix arctica</td>\n",
       "      <td>Arctic Willow</td>\n",
       "      <td>NaN</td>\n",
       "    </tr>\n",
       "    <tr>\n",
       "      <th>3284</th>\n",
       "      <td>Fish</td>\n",
       "      <td>Prosopium williamsoni</td>\n",
       "      <td>Mountain Whitefish</td>\n",
       "      <td>NaN</td>\n",
       "    </tr>\n",
       "    <tr>\n",
       "      <th>3599</th>\n",
       "      <td>Vascular Plant</td>\n",
       "      <td>Alyssum desertorum</td>\n",
       "      <td>Desert Alyssum, Desert Madwort</td>\n",
       "      <td>NaN</td>\n",
       "    </tr>\n",
       "    <tr>\n",
       "      <th>5185</th>\n",
       "      <td>Vascular Plant</td>\n",
       "      <td>Trifolium gracilentum var. gracilentum</td>\n",
       "      <td>Pinpoint Clover</td>\n",
       "      <td>NaN</td>\n",
       "    </tr>\n",
       "    <tr>\n",
       "      <th>3468</th>\n",
       "      <td>Vascular Plant</td>\n",
       "      <td>Erigeron ursinus</td>\n",
       "      <td>Bear Daisy, Bear River Fleabane</td>\n",
       "      <td>NaN</td>\n",
       "    </tr>\n",
       "    <tr>\n",
       "      <th>1988</th>\n",
       "      <td>Vascular Plant</td>\n",
       "      <td>Carex debilis var. debilis</td>\n",
       "      <td>White Edge Sedge</td>\n",
       "      <td>NaN</td>\n",
       "    </tr>\n",
       "    <tr>\n",
       "      <th>3100</th>\n",
       "      <td>Bird</td>\n",
       "      <td>Selasphorus platycercus</td>\n",
       "      <td>Broad-Tailed Hummingbird</td>\n",
       "      <td>NaN</td>\n",
       "    </tr>\n",
       "  </tbody>\n",
       "</table>\n",
       "</div>"
      ],
      "text/plain": [
       "            category                         scientific_name  \\\n",
       "1861  Vascular Plant                    Viola X primulifolia   \n",
       "5275  Vascular Plant                      Orobanche uniflora   \n",
       "3712  Vascular Plant                        Silene latifolia   \n",
       "5365  Vascular Plant                           Salix arctica   \n",
       "3284            Fish                   Prosopium williamsoni   \n",
       "3599  Vascular Plant                      Alyssum desertorum   \n",
       "5185  Vascular Plant  Trifolium gracilentum var. gracilentum   \n",
       "3468  Vascular Plant                        Erigeron ursinus   \n",
       "1988  Vascular Plant              Carex debilis var. debilis   \n",
       "3100            Bird                 Selasphorus platycercus   \n",
       "\n",
       "                                           common_names conservation_status  \n",
       "1861                             Primrose-Leaved Violet                 NaN  \n",
       "5275  Naked Broomrape, Naked Broom-Rape, Oneflowered...                 NaN  \n",
       "3712                   Bladder Campion, Bladder-Campion                 NaN  \n",
       "5365                                      Arctic Willow                 NaN  \n",
       "3284                                 Mountain Whitefish                 NaN  \n",
       "3599                     Desert Alyssum, Desert Madwort                 NaN  \n",
       "5185                                    Pinpoint Clover                 NaN  \n",
       "3468                    Bear Daisy, Bear River Fleabane                 NaN  \n",
       "1988                                   White Edge Sedge                 NaN  \n",
       "3100                           Broad-Tailed Hummingbird                 NaN  "
      ]
     },
     "execution_count": 55,
     "metadata": {},
     "output_type": "execute_result"
    }
   ],
   "source": [
    "species_df = pd.read_csv('species_info.csv')\n",
    "species_df.sample(10)"
   ]
  },
  {
   "cell_type": "code",
   "execution_count": 6,
   "metadata": {},
   "outputs": [
    {
     "data": {
      "text/html": [
       "<div>\n",
       "<style scoped>\n",
       "    .dataframe tbody tr th:only-of-type {\n",
       "        vertical-align: middle;\n",
       "    }\n",
       "\n",
       "    .dataframe tbody tr th {\n",
       "        vertical-align: top;\n",
       "    }\n",
       "\n",
       "    .dataframe thead th {\n",
       "        text-align: right;\n",
       "    }\n",
       "</style>\n",
       "<table border=\"1\" class=\"dataframe\">\n",
       "  <thead>\n",
       "    <tr style=\"text-align: right;\">\n",
       "      <th></th>\n",
       "      <th>scientific_name</th>\n",
       "      <th>park_name</th>\n",
       "      <th>observations</th>\n",
       "    </tr>\n",
       "  </thead>\n",
       "  <tbody>\n",
       "    <tr>\n",
       "      <th>0</th>\n",
       "      <td>Vicia benghalensis</td>\n",
       "      <td>Great Smoky Mountains National Park</td>\n",
       "      <td>68</td>\n",
       "    </tr>\n",
       "    <tr>\n",
       "      <th>1</th>\n",
       "      <td>Neovison vison</td>\n",
       "      <td>Great Smoky Mountains National Park</td>\n",
       "      <td>77</td>\n",
       "    </tr>\n",
       "    <tr>\n",
       "      <th>2</th>\n",
       "      <td>Prunus subcordata</td>\n",
       "      <td>Yosemite National Park</td>\n",
       "      <td>138</td>\n",
       "    </tr>\n",
       "    <tr>\n",
       "      <th>3</th>\n",
       "      <td>Abutilon theophrasti</td>\n",
       "      <td>Bryce National Park</td>\n",
       "      <td>84</td>\n",
       "    </tr>\n",
       "    <tr>\n",
       "      <th>4</th>\n",
       "      <td>Githopsis specularioides</td>\n",
       "      <td>Great Smoky Mountains National Park</td>\n",
       "      <td>85</td>\n",
       "    </tr>\n",
       "  </tbody>\n",
       "</table>\n",
       "</div>"
      ],
      "text/plain": [
       "            scientific_name                            park_name  observations\n",
       "0        Vicia benghalensis  Great Smoky Mountains National Park            68\n",
       "1            Neovison vison  Great Smoky Mountains National Park            77\n",
       "2         Prunus subcordata               Yosemite National Park           138\n",
       "3      Abutilon theophrasti                  Bryce National Park            84\n",
       "4  Githopsis specularioides  Great Smoky Mountains National Park            85"
      ]
     },
     "execution_count": 6,
     "metadata": {},
     "output_type": "execute_result"
    }
   ],
   "source": [
    "obs_df = pd.read_csv('observations.csv')\n",
    "obs_df.head()"
   ]
  },
  {
   "cell_type": "code",
   "execution_count": 126,
   "metadata": {},
   "outputs": [
    {
     "data": {
      "text/plain": [
       "<Axes: title={'center': 'Biodiversity by conservation status'}, xlabel='Consevation Status', ylabel='Count'>"
      ]
     },
     "execution_count": 126,
     "metadata": {},
     "output_type": "execute_result"
    },
    {
     "data": {
      "image/png": "[encoded data removed]",
      "text/plain": [
       "<Figure size 1000x600 with 1 Axes>"
      ]
     },
     "metadata": {},
     "output_type": "display_data"
    }
   ],
   "source": [
    "(species_df\n",
    "#  [['conservation_status', 'category']]\n",
    "#  .melt()\n",
    " .groupby('conservation_status')\n",
    "\n",
    " .count()\n",
    " .plot(kind='bar',\n",
    "       figsize=(10,6),\n",
    "       title='Biodiversity by conservation status',\n",
    "       ylabel='Count',\n",
    "       xlabel='Consevation Status',\n",
    "       stacked=True\n",
    "    )\n",
    " )"
   ]
  }
 ],
 "metadata": {
  "kernelspec": {
   "display_name": "Python 3",
   "language": "python",
   "name": "python3"
  },
  "language_info": {
   "codemirror_mode": {
    "name": "ipython",
    "version": 3
   },
   "file_extension": ".py",
   "mimetype": "text/x-python",
   "name": "python",
   "nbconvert_exporter": "python",
   "pygments_lexer": "ipython3",
   "version": "3.11.5"
  }
 },
 "nbformat": 4,
 "nbformat_minor": 4
}
